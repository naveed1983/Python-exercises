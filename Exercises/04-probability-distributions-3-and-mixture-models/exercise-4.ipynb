{
 "cells": [
  {
   "cell_type": "markdown",
   "metadata": {},
   "source": [
    "# Week 4 - Probability Distributions 3 and Mixture Models"
   ]
  },
  {
   "cell_type": "markdown",
   "metadata": {},
   "source": [
    "Learning contents:\n",
    "\n",
    "1. Histogram-based density estimation\n",
    "    - Display histogram densities\n",
    "2. Kernel density estimation\n",
    "    - Hypercube Kernel function\n",
    "    - Gaussian Kernel function\n",
    "3. K-Nearest Neigbours classification\n",
    "    - Generate data\n",
    "    - Classification function\n",
    "    - Display results\n",
    "4. K-Means clustering\n",
    "    - Display results"
   ]
  },
  {
   "cell_type": "markdown",
   "metadata": {},
   "source": [
    "## Dependencies"
   ]
  },
  {
   "cell_type": "code",
   "execution_count": null,
   "metadata": {},
   "outputs": [],
   "source": [
    "import numpy as np\n",
    "import matplotlib.pyplot as plt\n",
    "from matplotlib.animation import FuncAnimation\n",
    "from math import sqrt\n",
    "from collections import Counter\n",
    "from scipy.stats import norm\n",
    "from sklearn import datasets\n",
    "from IPython.display import HTML\n",
    "from math import floor\n",
    "\n",
    "import seaborn as sns; sns.set(); sns.set_palette('bright')"
   ]
  },
  {
   "cell_type": "markdown",
   "metadata": {},
   "source": [
    "## Generate data"
   ]
  },
{
   "cell_type": "markdown",
   "metadata": {},
   "source": [
    "write a function `generate_data_1D` that returns `n` number of 1D random variables exhibiting mixture of Gaussian distribution with parameters `means`, `variances` and `pi`."
   ]
  },
  {
   "cell_type": "code",
   "execution_count": null,
   "metadata": {},
   "outputs": [],
   "source": [
    "def generate_data_1D(size, means, variances, pis):\n",
    "    result = 0\n",
    "    \n",
    "    for i, (mean, variance, pi) in enumerate(zip(means, variances, pis)):\n",
    "        result += pi * np.array(norm(mean, sqrt(variance)).rvs(size=size, random_state=26 + i))\n",
    "    \n",
    "    return result\n",
    "    \n",
    "means = [0.4, 2.0]\n",
    "variances = [0.2, 0.1]\n",
    "pis = [0.7, 0.3]\n",
    "data_1D = generate_data_1D(50, means, variances, pis)\n",
    "\n",
    "plt.scatter(data_1D, [0] * len(data_1D), alpha=0.5)"
   ]
  },
  {
   "cell_type": "markdown",
   "metadata": {},
   "source": [
    "## 1) Histogram-based density estimation"
   ]
  },
  {
   "cell_type": "markdown",
   "metadata": {},
   "source": [
    "`histogram` takes `data`, bin size `delta` and returns `bins` (list of bins where `bin = list of points`) and their `probabilities`"
   ]
  },
  {
   "cell_type": "code",
   "execution_count": null,
   "metadata": {},
   "outputs": [],
   "source": [
    "def histogram(data, delta):\n",
    "    pass"
   ]
  },
  {
   "cell_type": "markdown",
   "metadata": {},
   "source": [
    "### 1.1) Display histogram densities"
   ]
  },
  {
   "cell_type": "code",
   "execution_count": null,
   "metadata": {},
   "outputs": [],
   "source": [
    "def display_histogram_density(data, delta):\n",
    "    bins, probabilities = histogram(data, delta)\n",
    "\n",
    "    plt.bar(range(len(bins)), list(map(lambda b: len(b), bins)))\n",
    "    plt.plot(range(len(probabilities)), probabilities, '-r')\n"
   ]
  },
  {
   "cell_type": "code",
   "execution_count": null,
   "metadata": {},
   "outputs": [],
   "source": [
    "display_histogram_density(data_1D, 0.05)"
   ]
  },
  {
   "cell_type": "code",
   "execution_count": null,
   "metadata": {},
   "outputs": [],
   "source": [
    "display_histogram_density(data_1D, 0.1)"
   ]
  },
  {
   "cell_type": "code",
   "execution_count": null,
   "metadata": {},
   "outputs": [],
   "source": [
    "display_histogram_density(data_1D, 0.2)"
   ]
  },
  {
   "cell_type": "code",
   "execution_count": null,
   "metadata": {},
   "outputs": [],
   "source": [
    "display_histogram_density(data_1D, 0.5)"
   ]
  },
  {
   "cell_type": "markdown",
   "metadata": {},
   "source": [
    "## 2) Kernel density estimation"
   ]
  },
  {
   "cell_type": "markdown",
   "metadata": {},
   "source": [
    "### 2.1) Hypercube Kernel function"
   ]
  },
  {
   "cell_type": "markdown",
   "metadata": {},
   "source": [
    "`hypercube_kernel_function` takes `u` and returns 0 or 1 if `u` is inside 1/2 hypercube"
   ]
  },
  {
   "cell_type": "code",
   "execution_count": null,
   "metadata": {},
   "outputs": [],
   "source": [
    "def hypercube_kernel_function(u):\n",
    "    pass"
   ]
  },
  {
   "cell_type": "markdown",
   "metadata": {},
   "source": [
    "`hypercube_kernel_density` takes any point `x`, data points `data`, size of a cube `h`, amount of dimensions `D` and returns probability density function based on Hypercube kernel function"
   ]
  },
  {
   "cell_type": "code",
   "execution_count": null,
   "metadata": {},
   "outputs": [],
   "source": [
    "def hypercube_kernel_density(x, data, h, D):\n",
    "    pass"
   ]
  },
  {
   "cell_type": "code",
   "execution_count": null,
   "metadata": {},
   "outputs": [],
   "source": [
    "def display_hypercube_kernel_density_1D(data, h, color='b'):\n",
    "    xs = np.linspace(min(data), max(data), 200)\n",
    "    plt.plot(xs, list(map(lambda x: hypercube_kernel_density(x, data, h, 1), xs)), '-' + color, label='h=' + str(h))\n",
    "    plt.legend()"
   ]
  },
  {
   "cell_type": "code",
   "execution_count": null,
   "metadata": {},
   "outputs": [],
   "source": [
    "display_hypercube_kernel_density_1D(data_1D, 0.05, 'b')"
   ]
  },
  {
   "cell_type": "code",
   "execution_count": null,
   "metadata": {},
   "outputs": [],
   "source": [
    "display_hypercube_kernel_density_1D(data_1D, 0.2, 'b')\n",
    "display_hypercube_kernel_density_1D(data_1D, 1, 'g')\n",
    "display_hypercube_kernel_density_1D(data_1D, 2, 'm')"
   ]
  },
  {
   "cell_type": "markdown",
   "metadata": {},
   "source": [
    "### 2.2) Gaussian Kernel function"
   ]
  },
  {
   "cell_type": "markdown",
   "metadata": {},
   "source": [
    "`gaussian_kernel_function` takes pair of points `x` and `x_n`, size `h` and returns Gaussian kernel function for this pair of points"
   ]
  },
  {
   "cell_type": "code",
   "execution_count": null,
   "metadata": {},
   "outputs": [],
   "source": [
    "def gaussian_kernel_function(x, x_n, h):\n",
    "    pass"
   ]
  },
  {
   "cell_type": "markdown",
   "metadata": {},
   "source": [
    "`gaussian_kernel_density` takes any point `x`, data points `data`, size `h` and returns Gaussian kernel density for point `x`"
   ]
  },
  {
   "cell_type": "code",
   "execution_count": null,
   "metadata": {},
   "outputs": [],
   "source": [
    "def gaussian_kernel_density(x, data, h):\n",
    "    pass"
   ]
  },
  {
   "cell_type": "code",
   "execution_count": null,
   "metadata": {},
   "outputs": [],
   "source": [
    "def display_gaussian_kernel_density_1D(data, h, color='b'):\n",
    "    xs = np.linspace(min(data), max(data), 200)\n",
    "    plt.plot(xs, list(map(lambda x: gaussian_kernel_density(x, data, h), xs)), '-' + color, label='h=' + str(h))\n",
    "    plt.legend()"
   ]
  },
  {
   "cell_type": "code",
   "execution_count": null,
   "metadata": {},
   "outputs": [],
   "source": [
    "display_gaussian_kernel_density_1D(data_1D, 0.01, 'b')\n",
    "display_gaussian_kernel_density_1D(data_1D, 0.05, 'g')\n",
    "display_gaussian_kernel_density_1D(data_1D, 0.2, 'r')"
   ]
  },
  {
   "cell_type": "markdown",
   "metadata": {},
   "source": [
    "## 3) K-Nearest Neigbours classification"
   ]
  },
  {
   "cell_type": "markdown",
   "metadata": {},
   "source": [
    "### 3.1) Generate Data"
   ]
  },
  {
   "cell_type": "code",
   "execution_count": null,
   "metadata": {},
   "outputs": [],
   "source": [
    "iris = datasets.load_iris()\n",
    "iris_x = np.array(iris.data[:, :2])  # we only take the first two features.\n",
    "iris_t = np.array(iris.target)\n",
    "\n",
    "def plot_iris(legend=True, classes=iris_t, target=plt):\n",
    "    scatter = target.scatter(iris_x[:, 0], iris_x[:, 1], c=classes, alpha=0.7, cmap='rainbow', edgecolor='none')\n",
    "    if legend:\n",
    "        legend = target.legend(*scatter.legend_elements(), loc=\"upper left\", title=\"Classes\")\n",
    "        return (scatter, legend)\n",
    "    return (scatter, )\n",
    "\n",
    "plot_iris()"
   ]
  },
  {
   "cell_type": "markdown",
   "metadata": {},
   "source": [
    "### 3.2) Classification function"
   ]
  },
  {
   "cell_type": "markdown",
   "metadata": {},
   "source": [
    "`k_nearest_classification` takes any point `x`, data point positions `data_x`, their classes `data_t`, amount of neighbours `k` and returns class for the point `x`"
   ]
  },
  {
   "cell_type": "code",
   "execution_count": null,
   "metadata": {},
   "outputs": [],
   "source": [
    "def k_nearest_classification(x, data_x, data_t, k):\n",
    "    pass"
   ]
  },
  {
   "cell_type": "markdown",
   "metadata": {},
   "source": [
    "### 3.3) Display results"
   ]
  },
  {
   "cell_type": "code",
   "execution_count": null,
   "metadata": {},
   "outputs": [],
   "source": [
    "def plot_mesh(pred_fn, n_class=3, x_min=4, x_max=8, y_min=2, y_max=4.5, target=plt):\n",
    "    h = 0.1  # step size in the mesh\n",
    "    xx, yy = np.meshgrid(np.arange(x_min, x_max, h), np.arange(y_min, y_max, h))\n",
    "    Z = np.array(list(map(lambda x: pred_fn(np.array(x)), np.c_[xx.ravel(), yy.ravel()])))\n",
    "    Z = Z.reshape(xx.shape)\n",
    "    cs = target.contourf(xx, yy, Z, alpha = 0.1, cmap=plt.cm.get_cmap('rainbow', n_class))\n",
    "    target.axis('tight')\n",
    "    if hasattr(target, 'xlim'):\n",
    "        target.xlim(x_min, x_max)\n",
    "        target.ylim(y_min, y_max)"
   ]
  },
  {
   "cell_type": "code",
   "execution_count": null,
   "metadata": {},
   "outputs": [],
   "source": [
    "plot_iris(False)\n",
    "plot_mesh(lambda x: k_nearest_classification(x, iris_x, iris_t, 1))\n",
    "plt.legend([], loc=\"upper left\", title=\"K=1\")"
   ]
  },
  {
   "cell_type": "code",
   "execution_count": null,
   "metadata": {},
   "outputs": [],
   "source": [
    "plot_iris(False)\n",
    "plot_mesh(lambda x: k_nearest_classification(x, iris_x, iris_t, 4))\n",
    "plt.legend([], loc=\"upper left\", title=\"K=4\")"
   ]
  },
  {
   "cell_type": "code",
   "execution_count": null,
   "metadata": {},
   "outputs": [],
   "source": [
    "plot_iris(False)\n",
    "plot_mesh(lambda x: k_nearest_classification(x, iris_x, iris_t, 8))\n",
    "plt.legend([], loc=\"upper left\", title=\"K=8\")"
   ]
  },
  {
   "cell_type": "markdown",
   "metadata": {},
   "source": [
    "## 4) K-Means clustering"
   ]
  },
  {
   "cell_type": "markdown",
   "metadata": {},
   "source": [
    "`k_means_step` takes initial means `mus_0`, data points `data_x` and returns new means `mus` and `classes`"
   ]
  },
  {
   "cell_type": "code",
   "execution_count": null,
   "metadata": {},
   "outputs": [],
   "source": [
    "def k_means_step(mus_0, data_x):\n",
    "    pass"
   ]
  },
  {
   "cell_type": "markdown",
   "metadata": {},
   "source": [
    "`distortion_measure` takes means `mus`, `classes`, data points `data_x` and returns distortion of this classification"
   ]
  },
  {
   "cell_type": "code",
   "execution_count": null,
   "metadata": {},
   "outputs": [],
   "source": [
    "def distortion_measure(mus, classes, data_x):\n",
    "    \n",
    "    result = 0\n",
    "    \n",
    "    for i, c in enumerate(classes):\n",
    "        \n",
    "        x = data_x[i]\n",
    "        mu = mus[c]\n",
    "        distance = np.dot(np.array(mu) - np.array(x), np.array(mu) - np.array(x))\n",
    "        result += distance\n",
    "    \n",
    "    return result"
   ]
  },
  {
   "cell_type": "markdown",
   "metadata": {},
   "source": [
    "`optimize_k_means` takes initial means `mus_0`, data points `data_x` and callback `on_step`\n",
    "\n",
    "`on_step` is a function that takes current `mus` and `classes` and should be called each step "
   ]
  },
  {
   "cell_type": "code",
   "execution_count": null,
   "metadata": {},
   "outputs": [],
   "source": [
    "def optimize_k_means(mus_0, data_x, on_step):\n",
    "    pass"
   ]
  },
  {
   "cell_type": "markdown",
   "metadata": {},
   "source": [
    "### 4.1) Display results"
   ]
  },
  {
   "cell_type": "code",
   "execution_count": null,
   "metadata": {},
   "outputs": [],
   "source": [
    "def plot_k_means(mus, classes, target=plt):\n",
    "    plot = plot_iris(classes=classes, target=target)\n",
    "    scatter = target.scatter(mus[:, 0], mus[:, 1], c=[0, 1, 2], cmap='rainbow', marker='X', s=300, edgecolors='black')\n",
    "    return (*plot, scatter)"
   ]
  },
  {
   "cell_type": "code",
   "execution_count": null,
   "metadata": {},
   "outputs": [],
   "source": [
    "k = 3\n",
    "mus_0 = iris_x[:k]\n",
    "\n",
    "all_steps = []\n",
    "\n",
    "optimize_k_means(mus_0, iris_x, lambda mus, classes: all_steps.append((mus, classes)))"
   ]
  },
  {
   "cell_type": "code",
   "execution_count": null,
   "metadata": {},
   "outputs": [],
   "source": [
    "def create_animation(all_steps, data_x):\n",
    "    \n",
    "    distortions = list(map(\n",
    "        lambda a: distortion_measure(a[0], a[1], data_x),\n",
    "        all_steps\n",
    "    ))\n",
    "    \n",
    "    fig, (ax, ax2) = plt.subplots(1, 2, figsize=(15,5))\n",
    "    \n",
    "    def animate(i):\n",
    "        ax.cla()\n",
    "        ax2.cla()\n",
    "        \n",
    "        plot1 = plot_k_means(all_steps[i][0], all_steps[i][1], target=ax)\n",
    "        ax2.plot(list(range(i)), distortions[:i], '-o')\n",
    "        plt.xlabel('Step')\n",
    "        plt.ylabel('Distortion')\n",
    "        return plot1\n",
    "    \n",
    "    anim = FuncAnimation(\n",
    "        fig, animate,\n",
    "        frames=len(all_steps), interval=500, blit=True\n",
    "    )\n",
    "    return HTML(anim.to_html5_video())\n",
    "\n",
    "create_animation(all_steps, iris_x)"
   ]
  }
 ],
 "metadata": {
  "kernelspec": {
   "display_name": "Python 3",
   "language": "python",
   "name": "python3"
  },
  "language_info": {
   "codemirror_mode": {
    "name": "ipython",
    "version": 3
   },
   "file_extension": ".py",
   "mimetype": "text/x-python",
   "name": "python",
   "nbconvert_exporter": "python",
   "pygments_lexer": "ipython3",
   "version": "3.7.7"
  }
 },
 "nbformat": 4,
 "nbformat_minor": 4
}
